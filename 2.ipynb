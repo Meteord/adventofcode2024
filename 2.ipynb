{
 "cells": [
  {
   "cell_type": "code",
   "execution_count": null,
   "metadata": {},
   "outputs": [],
   "source": [
    "import pandas as pd"
   ]
  },
  {
   "cell_type": "markdown",
   "metadata": {},
   "source": [
    "# Get Data"
   ]
  },
  {
   "cell_type": "code",
   "execution_count": 40,
   "metadata": {},
   "outputs": [],
   "source": [
    "reports = pd.read_csv('2/input', delimiter=' ', header=None)"
   ]
  },
  {
   "cell_type": "code",
   "execution_count": 41,
   "metadata": {},
   "outputs": [],
   "source": [
    "def find_safe_reports(df: pd.DataFrame):\n",
    "    all_in_range = df.diff(axis=1).isin([1,2,3,-1,-2,-3, np.nan]).all(axis=1)\n",
    "    all_monotonic = df.apply(lambda row: row.dropna().is_monotonic_increasing or row.dropna().is_monotonic_decreasing, axis=1)\n",
    "    return (all_in_range & all_monotonic)"
   ]
  },
  {
   "cell_type": "markdown",
   "metadata": {},
   "source": [
    "# Part 1"
   ]
  },
  {
   "cell_type": "code",
   "execution_count": 42,
   "metadata": {},
   "outputs": [
    {
     "name": "stdout",
     "output_type": "stream",
     "text": [
      "Total number of safe reports: 202\n"
     ]
    }
   ],
   "source": [
    "safe_reports = find_safe_reports(reports)\n",
    "print(f'Total number of safe reports: {sum(safe_reports)}')"
   ]
  },
  {
   "cell_type": "markdown",
   "metadata": {},
   "source": [
    "# Part 2\n",
    "\n",
    "using brootforce"
   ]
  },
  {
   "cell_type": "code",
   "execution_count": 43,
   "metadata": {},
   "outputs": [
    {
     "name": "stdout",
     "output_type": "stream",
     "text": [
      "Total number of safe reports: 271\n"
     ]
    }
   ],
   "source": [
    "# Run the tests for creating a different dataframe for each column dropped. Then lookup if any of the new generated reports are safe.\n",
    "all_possible_drops_combined = safe_reports |  pd.concat([find_safe_reports(reports.drop(columns=[col])) for col in reports.columns], axis=1).any(axis=1) # \n",
    "print(f'Total number of safe reports: {sum(all_possible_drops_combined)}')\n"
   ]
  }
 ],
 "metadata": {
  "kernelspec": {
   "display_name": ".venv",
   "language": "python",
   "name": "python3"
  },
  "language_info": {
   "codemirror_mode": {
    "name": "ipython",
    "version": 3
   },
   "file_extension": ".py",
   "mimetype": "text/x-python",
   "name": "python",
   "nbconvert_exporter": "python",
   "pygments_lexer": "ipython3",
   "version": "3.12.7"
  }
 },
 "nbformat": 4,
 "nbformat_minor": 2
}
